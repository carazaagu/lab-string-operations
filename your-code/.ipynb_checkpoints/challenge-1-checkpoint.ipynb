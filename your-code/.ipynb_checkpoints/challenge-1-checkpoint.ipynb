{
 "cells": [
  {
   "cell_type": "markdown",
   "metadata": {},
   "source": [
    "# String Operations Lab\n",
    "\n",
    "**Before your start:**\n",
    "\n",
    "- Read the README.md file\n",
    "- Comment as much as you can and use the resources in the README.md file\n",
    "- Happy learning!"
   ]
  },
  {
   "cell_type": "code",
   "execution_count": 1,
   "metadata": {},
   "outputs": [],
   "source": [
    "import re"
   ]
  },
  {
   "cell_type": "markdown",
   "metadata": {},
   "source": [
    "# Challenge 1 - Combining Strings\n",
    "\n",
    "Combining strings is an important skill to acquire. There are multiple ways of combining strings in Python, as well as combining strings with variables. We will explore this in the first challenge. In the cell below, combine the strings in the list and add spaces between the strings (do not add a space after the last string). Insert a period after the last string."
   ]
  },
  {
   "cell_type": "code",
   "execution_count": 2,
   "metadata": {},
   "outputs": [
    {
     "data": {
      "text/plain": [
       "'Durante un tiempo no estuvo segura de si su marido era su marido.'"
      ]
     },
     "execution_count": 2,
     "metadata": {},
     "output_type": "execute_result"
    }
   ],
   "source": [
    "str_list = ['Durante', 'un', 'tiempo', 'no', 'estuvo', 'segura', 'de', 'si', 'su', 'marido', 'era', 'su', 'marido']\n",
    "# Paso 1: unimos la lista con un join\n",
    "# Paso 2: concatenamos un punto final en la string saliente\n",
    "\n",
    "str = \" \".join(str_list) + \".\"\n",
    "str"
   ]
  },
  {
   "cell_type": "markdown",
   "metadata": {},
   "source": [
    "In the cell below, use the list of strings to create a grocery list. Start the list with the string `Grocery list: ` and include a comma and a space between each item except for the last one. Include a period at the end. Only include foods in the list that start with the letter 'b' and ensure all foods are lower case."
   ]
  },
  {
   "cell_type": "code",
   "execution_count": 3,
   "metadata": {},
   "outputs": [
    {
     "data": {
      "text/plain": [
       "'Grocery list: bread, broccoli.'"
      ]
     },
     "execution_count": 3,
     "metadata": {},
     "output_type": "execute_result"
    }
   ],
   "source": [
    "food_list = ['Bananas', 'Chocolate', 'bread', 'diapers', 'Ice Cream', 'Brownie Mix', 'broccoli']\n",
    "# Paso 1: creamos una string con \"Grocery list\"\n",
    "# Paso 2: concatenamos un join de la lista de las palabras que empiezan con b mediante una list comprehension y starts.with()\n",
    "# Paso 3: concatenamos un punto final en la string saliente\n",
    "\n",
    "lst = \"Grocery list: \" + \", \".join([food for food in food_list if food.startswith('b')]).lower() + \".\"\n",
    "lst"
   ]
  },
  {
   "cell_type": "markdown",
   "metadata": {},
   "source": [
    "In the cell below, write a function that computes the area of a circle using its radius. Compute the area of the circle and insert the radius and the area between the two strings. Make sure to include spaces between the variable and the strings. \n",
    "\n",
    "Note: You can use the techniques we have learned so far or use f-strings. F-strings allow us to embed code inside strings. You can read more about f-strings [here](https://www.python.org/dev/peps/pep-0498/)."
   ]
  },
  {
   "cell_type": "code",
   "execution_count": 4,
   "metadata": {},
   "outputs": [
    {
     "name": "stdout",
     "output_type": "stream",
     "text": [
      "The area of the circle with radius: 4.5 is: 63.62\n"
     ]
    }
   ],
   "source": [
    "import math\n",
    "\n",
    "string1 = \"The area of the circle with radius:\"\n",
    "string2  = \"is:\"\n",
    "radius = 4.5\n",
    "# Paso 1: definimos la función con una operación que coge como input el radio y pi y calcula el área de un círculo\n",
    "# Paso 2: cremos con F-string una frase que mediante las variables y la función nos indica el área.\n",
    "\n",
    "def area(x, pi = math.pi):\n",
    "    \n",
    "    return pi * x**2\n",
    "    \n",
    "print(f'{string1} {radius} {string2} {area(radius):.2f}') "
   ]
  },
  {
   "cell_type": "markdown",
   "metadata": {},
   "source": [
    "# Challenge 2 - Splitting Strings\n",
    "\n",
    "We have first looked at combining strings into one long string. There are times where we need to do the opposite and split the string into smaller components for further analysis. \n",
    "\n",
    "In the cell below, split the string into a list of strings using the space delimiter. Count the frequency of each word in the string in a dictionary. Strip the periods, line breaks and commas from the text. Make sure to remove empty strings from your dictionary."
   ]
  },
  {
   "cell_type": "code",
   "execution_count": 5,
   "metadata": {},
   "outputs": [
    {
     "data": {
      "text/plain": [
       "{'i': 3,\n",
       " 'suffice': 1,\n",
       " 'what': 1,\n",
       " 'who': 1,\n",
       " 'think': 1,\n",
       " 'ice': 2,\n",
       " 'that': 1,\n",
       " 'to': 2,\n",
       " 'tasted': 1,\n",
       " 'end': 1,\n",
       " 'with': 1,\n",
       " 'great': 1,\n",
       " 'hold': 1,\n",
       " 'for': 1,\n",
       " 'had': 1,\n",
       " 'and': 1,\n",
       " 'desire': 1,\n",
       " 'say': 3,\n",
       " 'but': 1,\n",
       " 'fire': 2,\n",
       " 'the': 1,\n",
       " 'hate': 1,\n",
       " 'those': 1,\n",
       " 'enough': 1,\n",
       " 'from': 1,\n",
       " 'will': 1,\n",
       " 'i’ve': 1,\n",
       " 'if': 1,\n",
       " 'of': 2,\n",
       " 'destruction': 1,\n",
       " 'is': 1,\n",
       " 'in': 2,\n",
       " 'it': 1,\n",
       " 'perish': 1,\n",
       " 'twice': 1,\n",
       " 'know': 1,\n",
       " 'favor': 1,\n",
       " 'also': 1,\n",
       " 'some': 2,\n",
       " 'would': 1,\n",
       " 'world': 1}"
      ]
     },
     "execution_count": 5,
     "metadata": {},
     "output_type": "execute_result"
    }
   ],
   "source": [
    "poem = \"\"\"Some say the world will end in fire,\n",
    "Some say in ice.\n",
    "From what I’ve tasted of desire\n",
    "I hold with those who favor fire.\n",
    "But if it had to perish twice,\n",
    "I think I know enough of hate\n",
    "To say that for destruction ice\n",
    "Is also great\n",
    "And would suffice.\"\"\"\n",
    "# Paso 1: creamos una lista de todas las palabras (split separación) habiendo reemplazado comas, puntos y saltos de línea\n",
    "# Paso 2: hacemos un set para crear una lista de palabras únicas\n",
    "# Paso 3: creamos un diccionario con la lista de palabras únicas como clave, y su recuento como valor\n",
    "\n",
    "poem_lst = poem.lower().replace(\",\",\"\").replace(\".\",\"\").replace(\"\\n\",\" \").split(\" \")\n",
    "poem_uniq = set(poem_lst)\n",
    "poem_uniq_count = dict([(palabra, poem_lst.count(palabra)) for palabra in poem_uniq])\n",
    "poem_uniq_count"
   ]
  },
  {
   "cell_type": "markdown",
   "metadata": {},
   "source": [
    "In the cell below, find all the words that appear in the text and do not appear in the blacklist. You must parse the string but can choose any data structure you wish for the words that do not appear in the blacklist. Remove all non letter characters and convert all words to lower case."
   ]
  },
  {
   "cell_type": "code",
   "execution_count": 6,
   "metadata": {},
   "outputs": [
    {
     "data": {
      "text/plain": [
       "'i was angry with my friend i told my wrath my wrath did end i was angry with my foe i told not my wrath did grow i waterd fears night morning with my tears i sunned with smiles with soft deceitful wiles grew both day night till bore apple bright my foe beheld shine he knew that was mine into my garden stole when night had veild pole morning glad i see my foe outstretched beneath tree'"
      ]
     },
     "execution_count": 6,
     "metadata": {},
     "output_type": "execute_result"
    }
   ],
   "source": [
    "blacklist = ['and', 'as', 'an', 'a', 'the', 'in', 'it']\n",
    "\n",
    "poem = \"\"\"I was angry with my friend; \n",
    "I told my wrath, my wrath did end.\n",
    "I was angry with my foe: \n",
    "I told it not, my wrath did grow. \n",
    "\n",
    "And I waterd it in fears,\n",
    "Night & morning with my tears: \n",
    "And I sunned it with smiles,\n",
    "And with soft deceitful wiles. \n",
    "\n",
    "And it grew both day and night. \n",
    "Till it bore an apple bright. \n",
    "And my foe beheld it shine,\n",
    "And he knew that it was mine. \n",
    "\n",
    "And into my garden stole, \n",
    "When the night had veild the pole; \n",
    "In the morning glad I see; \n",
    "My foe outstretched beneath the tree.\"\"\"\n",
    "# Paso 1: cremos suma lista con los elementos alfanúmericos y los espacios del poema\n",
    "# Paso 2: hacemos una string de la lista creada anteriormente\n",
    "# Paso 3: creamos una lista con split en los espacios y reemplazando saltos de línea y dobles espacios\n",
    "# Paso 4: creamos una string haciendo joint de las palabras que no están en la blacklist\n",
    "\n",
    "poem_char = [char for char in poem if (char.isalpha() or char.isspace())]\n",
    "poem2 = \"\".join(poem_char)\n",
    "poem_lst = poem2.replace(\"\\n\\n\",\" \").replace(\"\\n\", \" \").replace(\"  \", \" \").lower().split(\" \")\n",
    "poem_no_blacklist = \" \".join([words for words in poem_lst if words not in blacklist])\n",
    "poem_no_blacklist"
   ]
  },
  {
   "cell_type": "markdown",
   "metadata": {},
   "source": [
    "# Challenge 3 - Regular Expressions\n",
    "\n",
    "Sometimes, we would like to perform more complex manipulations of our string. This is where regular expressions come in handy. In the cell below, return all characters that are upper case from the string specified below."
   ]
  },
  {
   "cell_type": "code",
   "execution_count": 7,
   "metadata": {},
   "outputs": [
    {
     "data": {
      "text/plain": [
       "['T', 'P']"
      ]
     },
     "execution_count": 7,
     "metadata": {},
     "output_type": "execute_result"
    }
   ],
   "source": [
    "poem = \"\"\"The apparition of these faces in the crowd;\n",
    "Petals on a wet, black bough.\"\"\"\n",
    "# Paso 1: hacer un .findall de todas las letras mayúsculas\n",
    "\n",
    "re.findall(\"[A-Z]\", poem)"
   ]
  },
  {
   "cell_type": "markdown",
   "metadata": {},
   "source": [
    "In the cell below, filter the list provided and return all elements of the list containing a number. To filter the list, use the `re.search` function. Check if the function does not return `None`. You can read more about the `re.search` function [here](https://docs.python.org/3/library/re.html)."
   ]
  },
  {
   "cell_type": "code",
   "execution_count": 8,
   "metadata": {},
   "outputs": [
    {
     "data": {
      "text/plain": [
       "False"
      ]
     },
     "execution_count": 8,
     "metadata": {},
     "output_type": "execute_result"
    }
   ],
   "source": [
    "data = ['123abc', 'abc123', 'JohnSmith1', 'ABBY4', 'JANE']\n",
    "# Paso 1: hacer un search en cada palabra (gracias a un for loop) de ninguna o más letras delante o detrás de un dígito\n",
    "# Paso 2: comprobar que la lista creada no devuelva None\n",
    "# Paso 3: devolución de la lista de palabars que cumplen la condición\n",
    "\n",
    "[re.search(\"\\w*\\d+\\w*\", words) for words in data] == None"
   ]
  },
  {
   "cell_type": "code",
   "execution_count": 9,
   "metadata": {},
   "outputs": [
    {
     "data": {
      "text/plain": [
       "['123abc', 'abc123', 'JohnSmith1', 'ABBY4']"
      ]
     },
     "execution_count": 9,
     "metadata": {},
     "output_type": "execute_result"
    }
   ],
   "source": [
    "[i.group() for i in [re.search(\"\\w*\\d+\\w*\", words) for words in data] if i != None ]"
   ]
  },
  {
   "cell_type": "markdown",
   "metadata": {},
   "source": [
    "# Bonus Challenge - Regular Expressions II\n",
    "\n",
    "In the cell below, filter the list provided to keep only strings containing at least one digit and at least one lower case letter. As in the previous question, use the `re.search` function and check that the result is not `None`.\n",
    "\n",
    "To read more about regular expressions, check out [this link](https://developers.google.com/edu/python/regular-expressions)."
   ]
  },
  {
   "cell_type": "code",
   "execution_count": 10,
   "metadata": {},
   "outputs": [
    {
     "data": {
      "text/plain": [
       "False"
      ]
     },
     "execution_count": 10,
     "metadata": {},
     "output_type": "execute_result"
    }
   ],
   "source": [
    "word_digit_low = [re.search(\"(?=.*[a-z])(?=.*[0-9]).*\", words) for words in data]\n",
    "word_digit_low == None"
   ]
  },
  {
   "cell_type": "code",
   "execution_count": 11,
   "metadata": {},
   "outputs": [
    {
     "data": {
      "text/plain": [
       "['123abc', 'abc123', 'JohnSmith1']"
      ]
     },
     "execution_count": 11,
     "metadata": {},
     "output_type": "execute_result"
    }
   ],
   "source": [
    "[j.group() for j in word_digit_low if j != None ]"
   ]
  }
 ],
 "metadata": {
  "kernelspec": {
   "display_name": "Python 3",
   "language": "python",
   "name": "python3"
  },
  "language_info": {
   "codemirror_mode": {
    "name": "ipython",
    "version": 3
   },
   "file_extension": ".py",
   "mimetype": "text/x-python",
   "name": "python",
   "nbconvert_exporter": "python",
   "pygments_lexer": "ipython3",
   "version": "3.8.3"
  },
  "toc": {
   "base_numbering": 1,
   "nav_menu": {},
   "number_sections": true,
   "sideBar": true,
   "skip_h1_title": false,
   "title_cell": "Table of Contents",
   "title_sidebar": "Contents",
   "toc_cell": false,
   "toc_position": {},
   "toc_section_display": true,
   "toc_window_display": false
  },
  "varInspector": {
   "cols": {
    "lenName": 16,
    "lenType": 16,
    "lenVar": 40
   },
   "kernels_config": {
    "python": {
     "delete_cmd_postfix": "",
     "delete_cmd_prefix": "del ",
     "library": "var_list.py",
     "varRefreshCmd": "print(var_dic_list())"
    },
    "r": {
     "delete_cmd_postfix": ") ",
     "delete_cmd_prefix": "rm(",
     "library": "var_list.r",
     "varRefreshCmd": "cat(var_dic_list()) "
    }
   },
   "types_to_exclude": [
    "module",
    "function",
    "builtin_function_or_method",
    "instance",
    "_Feature"
   ],
   "window_display": false
  }
 },
 "nbformat": 4,
 "nbformat_minor": 2
}
